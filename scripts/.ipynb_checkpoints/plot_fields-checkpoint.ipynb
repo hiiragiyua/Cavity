{
 "cells": [
  {
   "cell_type": "code",
   "execution_count": null,
   "metadata": {},
   "outputs": [],
   "source": [
    "# this read a fortran binary file (fields_****.fw) in ./cavity  \n",
    "import matplotlib.pyplot as plt\n",
    "import numpy as np\n",
    "import time\n",
    "\n",
    "# \n",
    "from IPython.display import clear_output\n",
    "# --------------------------------------------- #\n",
    "icase=1\n",
    "if icase==1:\n",
    "    dir='../run/pool/'\n",
    "    filename=dir+'fields_' \n",
    "    endian='l'; \n",
    "    recl=4; # \n",
    "    Lx=0.1; Ly=Lx; Nx=41; Ny=43\n",
    "    Uwall=0.01; Kvis = 1.e-6; Dens = 1.e3;\n",
    "    iff=0; ill=200; iskip=1 #0--200\n",
    "    isave='png'\n",
    "    \n",
    "Re=Dens*Uwall*Lx/Kvis\n",
    "print('processing icase='+'%d'%icase+' Re=%f'%Re)\n",
    "\n",
    "dx=Lx/np.float64(Nx+1)\n",
    "dy=Ly/np.float64(Ny+1)\n",
    "\n",
    "x=np.array(np.zeros(Nx+2),dtype=np.float64)\n",
    "xc=np.array(np.zeros(Nx+1),dtype=np.float64)\n",
    "y=np.array(np.zeros(Ny+2),dtype=np.float64)\n",
    "yc=np.array(np.zeros(Ny+1),dtype=np.float64)\n",
    "\n",
    "uc=np.array(np.zeros((Nx+1,Ny+1),dtype=np.float64))\n",
    "vc=np.array(np.zeros((Nx+1,Ny+1),dtype=np.float64))\n",
    "\n",
    "# set uniform grid\n",
    "x[0]=0.0\n",
    "for i in range(1,Nx+2):\n",
    "    x[i]=x[i-1]+dx; # raw grid\n",
    "    xc[i-1]=0.5*(x[i-1]+x[i])/Lx # scaled grid centre\n",
    "#end of for\n",
    "y[0]=0.0\n",
    "for i in range(1,Ny+2):\n",
    "    y[i]=y[i-1]+dy; # raw grid \n",
    "    yc[i-1]=0.5*(y[i-1]+y[i])/Lx # scaled grid centre\n",
    "#end of for\n",
    "x2d, y2d = np.meshgrid(xc,yc) # *2 why ??\n",
    "\n",
    "# Controlling the starting points of the streamlines\n",
    "\n",
    "seed_points = np.array([x2d[::4,::4].reshape(121), y2d[::4,::4].reshape(121)])\n",
    "#for i in range(x2d.size):\n",
    "#    for j in range(y2d.size):\n",
    "#        seed_points[i,j] = [x2d[i,j], y2d[i,j]]\n",
    "\n",
    "# set file data type (Fortran binary)\n",
    "# compiled by \n",
    "# $gfortran main.f90 # results data of little endian with 4byte record marker on MacOS\n",
    "# use below \n",
    "# $gfortran -fconvert=big-endian main.f90 \n",
    "# or \n",
    "# ----------------- #\n",
    "# 4byte_recl+'u'+4byte_recl\n",
    "# 4byte_recl+'v'+4byte_recl\n",
    "# 4byte_recl+'p'+4byte_recl\n",
    "# ----------------- #\n",
    "#\n",
    "#head = (\"head\",\">i\") # for big-endian binary (fujitsu fortran on Ito (Kyushu Univ.)??)\n",
    "#head = (\"head\",\"<i\")  # for little-endian binary (intel. gfortran??)\n",
    "#tail = (\"tail\",\"<i\")\n",
    "#\n",
    "if endian==\"l\":\n",
    "    order='<'\n",
    "elif endian==\"b\":\n",
    "    order='>'\n",
    "byte_head = order+'i'\n",
    "byte_tail = order+'i'\n",
    "byte_u = order+'%d'%((Nx+2)*(Ny+1))+'d'\n",
    "byte_v = order+'%d'%((Nx+1)*(Ny+2))+'d'\n",
    "byte_p = order+'%d'%((Nx+1)*(Ny+1))+'d'\n",
    "fld_u = np.dtype([(\"head\",byte_head), (\"u\",byte_u), (\"tail\", byte_tail)])\n",
    "fld_v = np.dtype([(\"head\",byte_head), (\"v\",byte_v), (\"tail\", byte_tail)])\n",
    "fld_p = np.dtype([(\"head\",byte_head), (\"p\",byte_p), (\"tail\", byte_tail)])\n",
    "\n",
    "\n",
    "for ifield in range(iff,ill+1,iskip):\n",
    "    print('ifield'+' = %d'%ifield+' /%d'%(ill) )\n",
    "\n",
    "    time_start = time.time()\n",
    "\n",
    "    file_fw=open(filename+'%04d'%ifield+'.fwd')\n",
    "    # --- read u\n",
    "    tmp = np.fromfile(file_fw, dtype=fld_u, count=1) # u\n",
    "    if tmp[0][\"head\"]==((Nx+2)*(Ny+1)*8):  # \n",
    "        u=tmp[0][\"u\"].reshape(Ny+1,Nx+2)\n",
    "    else:\n",
    "        print(f\"[Warning] Skipping ifield={ifield}: read error (head={tmp[0]['head']})\")\n",
    "        file_fw.close()\n",
    "        continue \n",
    "    #endif\n",
    "    # --- read v\n",
    "    tmp = np.fromfile(file_fw, dtype=fld_v, count=1) # v\n",
    "    v=tmp[0][\"v\"].reshape(Ny+2,Nx+1)\n",
    "    # --- read p    \n",
    "    tmp = np.fromfile(file_fw, dtype=fld_p, count=1) # p\n",
    "    #p=tmp[0][\"p\"].reshape(Nx+1,Ny+1,order='F') # reading in fortran order with transposing\n",
    "    p=tmp[0][\"p\"].reshape(Ny+1,Nx+1) \n",
    "    file_fw.close()\n",
    "    time_read=time.time()\n",
    "    #print('elapsed time to read: ',time_read-time_start)\n",
    "    \n",
    "    # interpolate\n",
    "    uc=0.5*(u[:,:-1]+u[:,1:])/Uwall # interpolate at the cell centre with scaling\n",
    "    vc=0.5*(v[:-1,:]+v[1:,:])/Uwall # interpolate at the cell centre with scaling\n",
    "\n",
    "    time_interp=time.time()\n",
    "    #print('elapsed time to interpolation: ',time_interp-time_read)\n",
    "\n",
    "    # plot streamlines and pressure field\n",
    "    fig_p, ax_p = plt.subplots()\n",
    "    tcf=ax_p.contourf(xc,yc,p)\n",
    "    fig_p.colorbar(tcf)\n",
    "    #ax_p.contour(xc,yc,p, colors='k')\n",
    "    \n",
    "    #ax_p.streamplot(x2d,y2d,uc,vc,color='w',integration_direction='both',start_points=seed_points.T)\n",
    "    ax_p.streamplot(x2d,y2d,uc,vc,color='w',integration_direction='both',arrowsize=1.5,arrowstyle=\"->\",\n",
    "                    minlength=0.2,maxlength=0.8,start_points=seed_points.T)\n",
    "    \n",
    "    #ax_p.streamplot(x2d,y2d,uc,vc,color='w',density=0.7,integration_direction='both',arrowsize=1.5,arrowstyle=\"->\")\n",
    "    #ax_p.streamplot(xc/Lx,yc/Lx,uc/Uwall,vc/Uwall,color='w',density=1,integration_direction='backward',arrowstyle=\"->\")\n",
    "    ax_p.set_aspect('equal')\n",
    "    plt.xlim(0, 1); plt.ylim(0, 1)\n",
    "    plt.show()\n",
    "    #fig_p.savefig(filename+'%04d'%ifield+'.png')\n",
    "    plt.close()\n",
    "    \n",
    "    # use make_moview_sample.sh for making a movies from the series of png files. \n",
    "\n",
    "    #print('elapsed time: ',time.time()-time_start)\n",
    "        \n",
    "#end of for ifield "
   ]
  },
  {
   "cell_type": "code",
   "execution_count": 4,
   "metadata": {},
   "outputs": [
    {
     "data": {
      "text/plain": [
       "14"
      ]
     },
     "execution_count": 4,
     "metadata": {},
     "output_type": "execute_result"
    }
   ],
   "source": [
    "xc[::3].size"
   ]
  },
  {
   "cell_type": "code",
   "execution_count": 5,
   "metadata": {},
   "outputs": [
    {
     "ename": "ValueError",
     "evalue": "no field of name u",
     "output_type": "error",
     "traceback": [
      "\u001b[0;31m---------------------------------------------------------------------------\u001b[0m",
      "\u001b[0;31mValueError\u001b[0m                                Traceback (most recent call last)",
      "Cell \u001b[0;32mIn[5], line 1\u001b[0m\n\u001b[0;32m----> 1\u001b[0m \u001b[43mtmp\u001b[49m\u001b[43m[\u001b[49m\u001b[38;5;241;43m0\u001b[39;49m\u001b[43m]\u001b[49m\u001b[43m[\u001b[49m\u001b[38;5;124;43m\"\u001b[39;49m\u001b[38;5;124;43mu\u001b[39;49m\u001b[38;5;124;43m\"\u001b[39;49m\u001b[43m]\u001b[49m\u001b[38;5;241m.\u001b[39mreshape(Ny\u001b[38;5;241m+\u001b[39m\u001b[38;5;241m1\u001b[39m,Nx\u001b[38;5;241m+\u001b[39m\u001b[38;5;241m2\u001b[39m)\n",
      "\u001b[0;31mValueError\u001b[0m: no field of name u"
     ]
    }
   ],
   "source": [
    "tmp[0][\"u\"].reshape(Ny+1,Nx+2)"
   ]
  },
  {
   "cell_type": "code",
   "execution_count": null,
   "metadata": {},
   "outputs": [],
   "source": [
    "(Nx+2)*(Ny+1)*8 + (Nx+1)*(Ny+2)*8+ (Nx+1)*(Ny+1)*8"
   ]
  },
  {
   "cell_type": "code",
   "execution_count": null,
   "metadata": {},
   "outputs": [],
   "source": [
    "v.shape"
   ]
  },
  {
   "cell_type": "code",
   "execution_count": null,
   "metadata": {},
   "outputs": [],
   "source": []
  },
  {
   "cell_type": "code",
   "execution_count": null,
   "metadata": {},
   "outputs": [],
   "source": []
  }
 ],
 "metadata": {
  "kernelspec": {
   "display_name": "Python 3 (ipykernel)",
   "language": "python",
   "name": "python3"
  },
  "language_info": {
   "codemirror_mode": {
    "name": "ipython",
    "version": 3
   },
   "file_extension": ".py",
   "mimetype": "text/x-python",
   "name": "python",
   "nbconvert_exporter": "python",
   "pygments_lexer": "ipython3",
   "version": "3.9.6"
  }
 },
 "nbformat": 4,
 "nbformat_minor": 4
}
