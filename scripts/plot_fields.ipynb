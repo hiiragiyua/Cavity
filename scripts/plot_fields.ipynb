{
 "cells": [
  {
   "cell_type": "code",
   "execution_count": 26,
   "metadata": {
    "scrolled": false
   },
   "outputs": [
    {
     "name": "stdout",
     "output_type": "stream",
     "text": [
      "processing icase=1 Re=1000000.000000\n",
      "ifield = 10 /10\n"
     ]
    },
    {
     "ename": "ValueError",
     "evalue": "setting an array element with a sequence.",
     "output_type": "error",
     "traceback": [
      "\u001b[0;31m---------------------------------------------------------------------------\u001b[0m",
      "\u001b[0;31mValueError\u001b[0m                                Traceback (most recent call last)",
      "\u001b[0;32m<ipython-input-26-ef7b9a618662>\u001b[0m in \u001b[0;36m<module>\u001b[0;34m()\u001b[0m\n\u001b[1;32m    114\u001b[0m     \u001b[0mseed_points\u001b[0m \u001b[0;34m=\u001b[0m \u001b[0mnp\u001b[0m\u001b[0;34m.\u001b[0m\u001b[0marray\u001b[0m\u001b[0;34m(\u001b[0m\u001b[0;34m[\u001b[0m\u001b[0mxc\u001b[0m\u001b[0;34m[\u001b[0m\u001b[0;34m:\u001b[0m\u001b[0;34m:\u001b[0m\u001b[0;36m3\u001b[0m\u001b[0;34m]\u001b[0m\u001b[0;34m,\u001b[0m \u001b[0myc\u001b[0m\u001b[0;34m[\u001b[0m\u001b[0;34m:\u001b[0m\u001b[0;34m:\u001b[0m\u001b[0;36m3\u001b[0m\u001b[0;34m]\u001b[0m\u001b[0;34m]\u001b[0m\u001b[0;34m)\u001b[0m\u001b[0;34m\u001b[0m\u001b[0m\n\u001b[1;32m    115\u001b[0m \u001b[0;34m\u001b[0m\u001b[0m\n\u001b[0;32m--> 116\u001b[0;31m     \u001b[0max_p\u001b[0m\u001b[0;34m.\u001b[0m\u001b[0mstreamplot\u001b[0m\u001b[0;34m(\u001b[0m\u001b[0mx2d\u001b[0m\u001b[0;34m,\u001b[0m\u001b[0my2d\u001b[0m\u001b[0;34m,\u001b[0m\u001b[0muc\u001b[0m\u001b[0;34m,\u001b[0m\u001b[0mvc\u001b[0m\u001b[0;34m,\u001b[0m\u001b[0mcolor\u001b[0m\u001b[0;34m=\u001b[0m\u001b[0;34m'w'\u001b[0m\u001b[0;34m,\u001b[0m\u001b[0mdensity\u001b[0m\u001b[0;34m=\u001b[0m\u001b[0;36m0.6\u001b[0m\u001b[0;34m,\u001b[0m\u001b[0mintegration_direction\u001b[0m\u001b[0;34m=\u001b[0m\u001b[0;34m'both'\u001b[0m\u001b[0;34m,\u001b[0m\u001b[0marrowstyle\u001b[0m\u001b[0;34m=\u001b[0m\u001b[0;34m\"->\"\u001b[0m\u001b[0;34m,\u001b[0m\u001b[0mstart_points\u001b[0m\u001b[0;34m=\u001b[0m\u001b[0mseed_points\u001b[0m\u001b[0;34m.\u001b[0m\u001b[0mT\u001b[0m\u001b[0;34m)\u001b[0m\u001b[0;34m\u001b[0m\u001b[0m\n\u001b[0m\u001b[1;32m    117\u001b[0m     \u001b[0;31m#ax_p.streamplot(x2d,y2d,uc,vc,color='w',density=0.7,integration_direction='both',arrowstyle=\"->\")\u001b[0m\u001b[0;34m\u001b[0m\u001b[0;34m\u001b[0m\u001b[0m\n\u001b[1;32m    118\u001b[0m     \u001b[0;31m#ax_p.streamplot(xc/Lx,yc/Lx,uc/Uwall,vc/Uwall,color='w',density=1,integration_direction='backward',arrowstyle=\"->\")\u001b[0m\u001b[0;34m\u001b[0m\u001b[0;34m\u001b[0m\u001b[0m\n",
      "\u001b[0;32m/anaconda3/lib/python3.6/site-packages/matplotlib/__init__.py\u001b[0m in \u001b[0;36minner\u001b[0;34m(ax, *args, **kwargs)\u001b[0m\n\u001b[1;32m   1708\u001b[0m                     warnings.warn(msg % (label_namer, func.__name__),\n\u001b[1;32m   1709\u001b[0m                                   RuntimeWarning, stacklevel=2)\n\u001b[0;32m-> 1710\u001b[0;31m             \u001b[0;32mreturn\u001b[0m \u001b[0mfunc\u001b[0m\u001b[0;34m(\u001b[0m\u001b[0max\u001b[0m\u001b[0;34m,\u001b[0m \u001b[0;34m*\u001b[0m\u001b[0margs\u001b[0m\u001b[0;34m,\u001b[0m \u001b[0;34m**\u001b[0m\u001b[0mkwargs\u001b[0m\u001b[0;34m)\u001b[0m\u001b[0;34m\u001b[0m\u001b[0m\n\u001b[0m\u001b[1;32m   1711\u001b[0m         \u001b[0mpre_doc\u001b[0m \u001b[0;34m=\u001b[0m \u001b[0minner\u001b[0m\u001b[0;34m.\u001b[0m\u001b[0m__doc__\u001b[0m\u001b[0;34m\u001b[0m\u001b[0m\n\u001b[1;32m   1712\u001b[0m         \u001b[0;32mif\u001b[0m \u001b[0mpre_doc\u001b[0m \u001b[0;32mis\u001b[0m \u001b[0;32mNone\u001b[0m\u001b[0;34m:\u001b[0m\u001b[0;34m\u001b[0m\u001b[0m\n",
      "\u001b[0;32m/anaconda3/lib/python3.6/site-packages/matplotlib/axes/_axes.py\u001b[0m in \u001b[0;36mstreamplot\u001b[0;34m(self, x, y, u, v, density, linewidth, color, cmap, norm, arrowsize, arrowstyle, minlength, transform, zorder, start_points, maxlength, integration_direction)\u001b[0m\n\u001b[1;32m   4686\u001b[0m             \u001b[0mzorder\u001b[0m\u001b[0;34m=\u001b[0m\u001b[0mzorder\u001b[0m\u001b[0;34m,\u001b[0m\u001b[0;34m\u001b[0m\u001b[0m\n\u001b[1;32m   4687\u001b[0m             \u001b[0mmaxlength\u001b[0m\u001b[0;34m=\u001b[0m\u001b[0mmaxlength\u001b[0m\u001b[0;34m,\u001b[0m\u001b[0;34m\u001b[0m\u001b[0m\n\u001b[0;32m-> 4688\u001b[0;31m             integration_direction=integration_direction)\n\u001b[0m\u001b[1;32m   4689\u001b[0m         \u001b[0;32mreturn\u001b[0m \u001b[0mstream_container\u001b[0m\u001b[0;34m\u001b[0m\u001b[0m\n\u001b[1;32m   4690\u001b[0m     \u001b[0mstreamplot\u001b[0m\u001b[0;34m.\u001b[0m\u001b[0m__doc__\u001b[0m \u001b[0;34m=\u001b[0m \u001b[0mmstream\u001b[0m\u001b[0;34m.\u001b[0m\u001b[0mstreamplot\u001b[0m\u001b[0;34m.\u001b[0m\u001b[0m__doc__\u001b[0m\u001b[0;34m\u001b[0m\u001b[0m\n",
      "\u001b[0;32m/anaconda3/lib/python3.6/site-packages/matplotlib/streamplot.py\u001b[0m in \u001b[0;36mstreamplot\u001b[0;34m(axes, x, y, u, v, density, linewidth, color, cmap, norm, arrowsize, arrowstyle, minlength, transform, zorder, start_points, maxlength, integration_direction)\u001b[0m\n\u001b[1;32m    153\u001b[0m                     \u001b[0mtrajectories\u001b[0m\u001b[0;34m.\u001b[0m\u001b[0mappend\u001b[0m\u001b[0;34m(\u001b[0m\u001b[0mt\u001b[0m\u001b[0;34m)\u001b[0m\u001b[0;34m\u001b[0m\u001b[0m\n\u001b[1;32m    154\u001b[0m     \u001b[0;32melse\u001b[0m\u001b[0;34m:\u001b[0m\u001b[0;34m\u001b[0m\u001b[0m\n\u001b[0;32m--> 155\u001b[0;31m         \u001b[0msp2\u001b[0m \u001b[0;34m=\u001b[0m \u001b[0mnp\u001b[0m\u001b[0;34m.\u001b[0m\u001b[0masanyarray\u001b[0m\u001b[0;34m(\u001b[0m\u001b[0mstart_points\u001b[0m\u001b[0;34m,\u001b[0m \u001b[0mdtype\u001b[0m\u001b[0;34m=\u001b[0m\u001b[0mfloat\u001b[0m\u001b[0;34m)\u001b[0m\u001b[0;34m.\u001b[0m\u001b[0mcopy\u001b[0m\u001b[0;34m(\u001b[0m\u001b[0;34m)\u001b[0m\u001b[0;34m\u001b[0m\u001b[0m\n\u001b[0m\u001b[1;32m    156\u001b[0m \u001b[0;34m\u001b[0m\u001b[0m\n\u001b[1;32m    157\u001b[0m         \u001b[0;31m# Check if start_points are outside the data boundaries\u001b[0m\u001b[0;34m\u001b[0m\u001b[0;34m\u001b[0m\u001b[0m\n",
      "\u001b[0;32m/anaconda3/lib/python3.6/site-packages/numpy/core/numeric.py\u001b[0m in \u001b[0;36masanyarray\u001b[0;34m(a, dtype, order)\u001b[0m\n\u001b[1;32m    581\u001b[0m \u001b[0;34m\u001b[0m\u001b[0m\n\u001b[1;32m    582\u001b[0m     \"\"\"\n\u001b[0;32m--> 583\u001b[0;31m     \u001b[0;32mreturn\u001b[0m \u001b[0marray\u001b[0m\u001b[0;34m(\u001b[0m\u001b[0ma\u001b[0m\u001b[0;34m,\u001b[0m \u001b[0mdtype\u001b[0m\u001b[0;34m,\u001b[0m \u001b[0mcopy\u001b[0m\u001b[0;34m=\u001b[0m\u001b[0;32mFalse\u001b[0m\u001b[0;34m,\u001b[0m \u001b[0morder\u001b[0m\u001b[0;34m=\u001b[0m\u001b[0morder\u001b[0m\u001b[0;34m,\u001b[0m \u001b[0msubok\u001b[0m\u001b[0;34m=\u001b[0m\u001b[0;32mTrue\u001b[0m\u001b[0;34m)\u001b[0m\u001b[0;34m\u001b[0m\u001b[0m\n\u001b[0m\u001b[1;32m    584\u001b[0m \u001b[0;34m\u001b[0m\u001b[0m\n\u001b[1;32m    585\u001b[0m \u001b[0;34m\u001b[0m\u001b[0m\n",
      "\u001b[0;31mValueError\u001b[0m: setting an array element with a sequence."
     ]
    }
   ],
   "source": [
    "# this read a fortran binary file (fields_****.fw) in ./cavity  \n",
    "import matplotlib.pyplot as plt\n",
    "import numpy as np\n",
    "import time\n",
    "# --------------------------------------------- #\n",
    "icase=1\n",
    "if icase==1:\n",
    "    dir='../run/pool/'\n",
    "    filename=dir+'fields_' \n",
    "    endian='l'; \n",
    "    recl=4; # \n",
    "    Lx=0.1; Ly=Lx; Nx=41; Ny=43\n",
    "    Uwall=0.01; Kvis = 1.e-6; Dens = 1.e3;\n",
    "    iff=10; ill=10; iskip=1 #0--200\n",
    "    isave='png'\n",
    "    \n",
    "Re=Dens*Uwall*Lx/Kvis\n",
    "print('processing icase='+'%d'%icase+' Re=%f'%Re)\n",
    "\n",
    "dx=Lx/np.float(Nx+1)\n",
    "dy=Ly/np.float(Ny+1)\n",
    "\n",
    "x=np.array(np.zeros(Nx+2),dtype=np.float64)\n",
    "xc=np.array(np.zeros(Nx+1),dtype=np.float64)\n",
    "y=np.array(np.zeros(Ny+2),dtype=np.float64)\n",
    "yc=np.array(np.zeros(Ny+1),dtype=np.float64)\n",
    "\n",
    "uc=np.array(np.zeros((Nx+1,Ny+1),dtype=np.float64))\n",
    "vc=np.array(np.zeros((Nx+1,Ny+1),dtype=np.float64))\n",
    "\n",
    "# set uniform grid\n",
    "x[0]=0.0\n",
    "for i in range(1,Nx+2):\n",
    "    x[i]=x[i-1]+dx; # raw grid\n",
    "    xc[i-1]=0.5*(x[i-1]+x[i])/Lx # scaled grid centre\n",
    "#end of for\n",
    "y[0]=0.0\n",
    "for i in range(1,Ny+2):\n",
    "    y[i]=y[i-1]+dy; # raw grid \n",
    "    yc[i-1]=0.5*(y[i-1]+y[i])/Lx # scaled grid centre\n",
    "#end of for\n",
    "x2d, y2d = np.meshgrid(xc,yc) # *2 why ??\n",
    "\n",
    "# set file data type (Fortran binary)\n",
    "# compiled by \n",
    "# $gfortran main.f90 # results data of little endian with 4byte record marker on MacOS\n",
    "# use below \n",
    "# $gfortran -fconvert=big-endian main.f90 \n",
    "# or \n",
    "# ----------------- #\n",
    "# 4byte_recl+'u'+4byte_recl\n",
    "# 4byte_recl+'v'+4byte_recl\n",
    "# 4byte_recl+'p'+4byte_recl\n",
    "# ----------------- #\n",
    "#\n",
    "#head = (\"head\",\">i\") # for big-endian binary (fujitsu fortran on Ito (Kyushu Univ.)??)\n",
    "#head = (\"head\",\"<i\")  # for little-endian binary (intel. gfortran??)\n",
    "#tail = (\"tail\",\"<i\")\n",
    "#\n",
    "if endian==\"l\":\n",
    "    order='<'\n",
    "elif endian==\"b\":\n",
    "    order='>'\n",
    "byte_head = order+'i'\n",
    "byte_tail = order+'i'\n",
    "byte_u = order+'%d'%((Nx+2)*(Ny+1))+'d'\n",
    "byte_v = order+'%d'%((Nx+1)*(Ny+2))+'d'\n",
    "byte_p = order+'%d'%((Nx+1)*(Ny+1))+'d'\n",
    "fld_u = np.dtype([(\"head\",byte_head), (\"u\",byte_u), (\"tail\", byte_tail)])\n",
    "fld_v = np.dtype([(\"head\",byte_head), (\"v\",byte_v), (\"tail\", byte_tail)])\n",
    "fld_p = np.dtype([(\"head\",byte_head), (\"p\",byte_p), (\"tail\", byte_tail)])\n",
    "\n",
    "\n",
    "for ifield in range(iff,ill+1,iskip):\n",
    "    print('ifield'+' = %d'%ifield+' /%d'%(ill) )\n",
    "\n",
    "    time_start = time.time()\n",
    "\n",
    "    file_fw=open(filename+'%04d'%ifield+'.fwd')\n",
    "    # --- read u\n",
    "    tmp = np.fromfile(file_fw, dtype=fld_u, count=1) # u\n",
    "    if tmp[0][\"head\"]==((Nx+2)*(Ny+1)*8): \n",
    "        u=tmp[0][\"u\"].reshape(Ny+1,Nx+2)\n",
    "    else:\n",
    "        print('%d'%tmp[0][\"head\"]+' should be '+ '%d'%((Nx+2)*(Ny+1)*8))\n",
    "        print('reading error: check the endian and the binary record length')\n",
    "        exit()\n",
    "    #endif\n",
    "    # --- read v\n",
    "    tmp = np.fromfile(file_fw, dtype=fld_v, count=1) # v\n",
    "    v=tmp[0][\"v\"].reshape(Ny+2,Nx+1)\n",
    "    # --- read p    \n",
    "    tmp = np.fromfile(file_fw, dtype=fld_p, count=1) # p\n",
    "    #p=tmp[0][\"p\"].reshape(Nx+1,Ny+1,order='F') # reading in fortran order with transposing\n",
    "    p=tmp[0][\"p\"].reshape(Ny+1,Nx+1) \n",
    "    file_fw.close()\n",
    "    time_read=time.time()\n",
    "    #print('elapsed time to read: ',time_read-time_start)\n",
    "    \n",
    "    # interpolate\n",
    "    uc=0.5*(u[:,:-1]+u[:,1:])/Uwall # interpolate at the cell centre with scaling\n",
    "    vc=0.5*(v[:-1,:]+v[1:,:])/Uwall # interpolate at the cell centre with scaling\n",
    "\n",
    "    time_interp=time.time()\n",
    "    #print('elapsed time to interpolation: ',time_interp-time_read)\n",
    "\n",
    "    # plot streamlines and pressure field\n",
    "    fig_p, ax_p = plt.subplots()\n",
    "    tcf=ax_p.contourf(xc,yc,p)\n",
    "    fig_p.colorbar(tcf)\n",
    "    #ax_p.contour(xc,yc,p, colors='k')\n",
    "    \n",
    "    # Controlling the starting points of the streamlines\n",
    "    #seed_points = np.array([xc[::3], yc[::3]])\n",
    "    #ax_p.streamplot(x2d,y2d,uc,vc,color='w',density=0.6,integration_direction='both',arrowstyle=\"->\",start_points=seed_points.T)\n",
    "    \n",
    "    ax_p.streamplot(x2d,y2d,uc,vc,color='w',density=0.7,integration_direction='both',arrowstyle=\"->\")\n",
    "    #ax_p.streamplot(xc/Lx,yc/Lx,uc/Uwall,vc/Uwall,color='w',density=1,integration_direction='backward',arrowstyle=\"->\")\n",
    "    ax_p.set_aspect('equal')\n",
    "    plt.xlim(0, 1); plt.ylim(0, 1)\n",
    "    plt.show()\n",
    "    #fig_p.savefig(filename+'%04d'%ifield+'.png')\n",
    "    plt.close()\n",
    "    \n",
    "    # use make_moview_sample.sh for making a movies from the series of png files. \n",
    "\n",
    "    #print('elapsed time: ',time.time()-time_start)\n",
    "        \n",
    "#end of for ifield "
   ]
  },
  {
   "cell_type": "code",
   "execution_count": 25,
   "metadata": {},
   "outputs": [
    {
     "data": {
      "text/plain": [
       "array([ array([ 0.01190476,  0.08333333,  0.1547619 ,  0.22619048,  0.29761905,\n",
       "        0.36904762,  0.44047619,  0.51190476,  0.58333333,  0.6547619 ,\n",
       "        0.72619048,  0.79761905,  0.86904762,  0.94047619]),\n",
       "       array([ 0.01136364,  0.07954545,  0.14772727,  0.21590909,  0.28409091,\n",
       "        0.35227273,  0.42045455,  0.48863636,  0.55681818,  0.625     ,\n",
       "        0.69318182,  0.76136364,  0.82954545,  0.89772727,  0.96590909])], dtype=object)"
      ]
     },
     "execution_count": 25,
     "metadata": {},
     "output_type": "execute_result"
    }
   ],
   "source": [
    "seed_points"
   ]
  },
  {
   "cell_type": "code",
   "execution_count": null,
   "metadata": {
    "collapsed": true
   },
   "outputs": [],
   "source": []
  }
 ],
 "metadata": {
  "kernelspec": {
   "display_name": "Python 3",
   "language": "python",
   "name": "python3"
  },
  "language_info": {
   "codemirror_mode": {
    "name": "ipython",
    "version": 3
   },
   "file_extension": ".py",
   "mimetype": "text/x-python",
   "name": "python",
   "nbconvert_exporter": "python",
   "pygments_lexer": "ipython3",
   "version": "3.6.3"
  }
 },
 "nbformat": 4,
 "nbformat_minor": 2
}
