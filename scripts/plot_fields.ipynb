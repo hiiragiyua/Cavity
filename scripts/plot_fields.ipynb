{
 "cells": [
  {
   "cell_type": "code",
   "execution_count": 1,
   "metadata": {
    "scrolled": false
   },
   "outputs": [
    {
     "data": {
      "image/png": "[encoded data removed]",
      "text/plain": [
       "<matplotlib.figure.Figure at 0x10786e3c8>"
      ]
     },
     "metadata": {},
     "output_type": "display_data"
    }
   ],
   "source": [
    "# this read a fortran binary file (fields_****.fw) in ./cavity  \n",
    "import matplotlib.pyplot as plt\n",
    "import numpy as np\n",
    "# --------------------------------------------- #\n",
    "icase=1\n",
    "if icase==1:\n",
    "    dir='../run/pool/'\n",
    "    filename=dir+'fields_' \n",
    "    # compiled by \n",
    "    # $gfortran -fconvert=big-endian main.f90 \n",
    "    # ----------------- #\n",
    "    # 4byte_recl+'u'+4byte_recl\n",
    "    # 4byte_recl+'v'+4byte_recl\n",
    "    # 4byte_recl+'p'+4byte_recl\n",
    "    # ----------------- #\n",
    "    Lx=0.1; Ly=Lx; Uwall=0.1;\n",
    "    Nx=41; Ny=43\n",
    "    iff=30; ill=30\n",
    "    iskip=2\n",
    "    \n",
    "dx=Lx/np.float(Nx-1)\n",
    "dy=Ly/np.float(Ny-1)\n",
    "\n",
    "x=np.array(np.zeros(Nx+2),dtype=np.float64)\n",
    "xc=np.array(np.zeros(Nx+1),dtype=np.float64)\n",
    "x[0]=0.0\n",
    "for i in range(1,Nx+1):\n",
    "    x[i]=x[i-1]+dx\n",
    "    xc[i]=0.5*(x[i-1]+x[i])\n",
    "    \n",
    "y=np.array(np.zeros(Ny+2),dtype=np.float64)\n",
    "yc=np.array(np.zeros(Ny+1),dtype=np.float64)\n",
    "y[0]=0.0\n",
    "for i in range(1,Ny+1):\n",
    "    y[i]=y[i-1]+dy\n",
    "    yc[i]=0.5*(y[i-1]+y[i])\n",
    "\n",
    "    \n",
    "for ifield in range(iff,ill+1):\n",
    "    \n",
    "    file_fw=open(filename+'%04d'%ifield+'.fwd')\n",
    "    head = (\"head\",\">i\")\n",
    "    tail = (\"tail\",\">i\")\n",
    "    byte_u='>'+'%d'%((Nx+2)*(Ny+1))+'d'\n",
    "    byte_v='>'+'%d'%((Nx+1)*(Ny+2))+'d'\n",
    "    byte_p='>'+'%d'%((Nx+1)*(Ny+1))+'d'\n",
    "    fld_u = np.dtype([head, (\"u\",byte_u), tail])\n",
    "    fld_v = np.dtype([head, (\"v\",byte_v), tail])\n",
    "    fld_p = np.dtype([head, (\"p\",byte_p), tail])\n",
    "    tmp = np.fromfile(file_fw, dtype=fld_u, count=1) # u\n",
    "    u=tmp[0][\"u\"].reshape(Ny+1,Nx+2)\n",
    "    uc=0.5*(u[:,:-1]+u[:,1:]) # interpolate at the cell centre\n",
    "    \n",
    "    tmp = np.fromfile(file_fw, dtype=fld_v, count=1) # v\n",
    "    v=tmp[0][\"v\"].reshape(Ny+2,Nx+1)\n",
    "    vc=0.5*(v[:-1,:]+v[1:,:]) # interpolate at the cell centre\n",
    "    \n",
    "    tmp = np.fromfile(file_fw, dtype=fld_p, count=1) # p\n",
    "    #p=tmp[0][\"p\"].reshape(Nx+1,Ny+1,order='F') # reading in fortran order with transposing\n",
    "    p=tmp[0][\"p\"].reshape(Ny+1,Nx+1) \n",
    "    file_fw.close()\n",
    "\n",
    "    fig_p, ax_p = plt.subplots()\n",
    "    tcf=ax_p.contourf(xc,yc,p)\n",
    "    ax_p.set_aspect('equal')\n",
    "    fig_p.colorbar(tcf)\n",
    "    #ax_p.contour(xc,yc,p, colors='k')\n",
    "    plt.show()\n"
   ]
  },
  {
   "cell_type": "code",
   "execution_count": null,
   "metadata": {
    "collapsed": true
   },
   "outputs": [],
   "source": []
  }
 ],
 "metadata": {
  "kernelspec": {
   "display_name": "Python 3",
   "language": "python",
   "name": "python3"
  },
  "language_info": {
   "codemirror_mode": {
    "name": "ipython",
    "version": 3
   },
   "file_extension": ".py",
   "mimetype": "text/x-python",
   "name": "python",
   "nbconvert_exporter": "python",
   "pygments_lexer": "ipython3",
   "version": "3.6.3"
  }
 },
 "nbformat": 4,
 "nbformat_minor": 2
}
